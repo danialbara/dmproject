{
 "cells": [
  {
   "cell_type": "code",
   "execution_count": 1,
   "id": "36931afc-9411-4683-9431-98cf347cd79b",
   "metadata": {
    "tags": []
   },
   "outputs": [],
   "source": [
    "import abacusnbody\n",
    "import abacusnbody.analysis\n",
    "import numpy as np\n",
    "import matplotlib.pyplot as plt\n",
    "import sys\n",
    "from scipy.fft import rfftn, irfftn, fftfreq, rfftfreq\n",
    "from scipy.optimize import minimize\n",
    "from abacusnbody.analysis.power_spectrum import calc_pk_from_deltak\n",
    "import scipy as sp\n",
    "import gc"
   ]
  },
  {
   "cell_type": "code",
   "execution_count": 2,
   "id": "5f433962-392d-4192-819a-9f46354cd458",
   "metadata": {
    "tags": []
   },
   "outputs": [],
   "source": [
    "# Parameters"
   ]
  },
  {
   "cell_type": "code",
   "execution_count": 28,
   "id": "d46d7490-3219-4545-8199-e2ba1c185265",
   "metadata": {
    "tags": []
   },
   "outputs": [],
   "source": [
    "nmesh = 1024\n",
    "npart = 2100\n",
    "Lbox = 64.6917  # cMpc/h\n",
    "k_bin_edges = np.linspace(0.08, 20, 101)\n",
    "mu_bin_edges = np.array([0, 1.])\n",
    "z_IC = 20. \n",
    "snap_int = 23 #40 #23, 34, 40, 48, 54, 61, 70, 76\n",
    "snap_dict = {0: [z_IC, -1], 40: [8.3, 168], 48: [7.5, 209], 54: [7.0, 240], 75: [5.75, 342], 70: [6.0, 318], 61: [6.5, 276], 34: [9.0, 139], 23: [10.82, 83] }\n",
    "scratch_dir = \"/pscratch/sd/b/boryanah/Thesan/derived/\"\n",
    "thesan_dir = \"/pscratch/sd/b/boryanah/Thesan/\""
   ]
  },
  {
   "cell_type": "code",
   "execution_count": 29,
   "id": "c51a19f0-09f1-4212-9cc1-9184a4884ba7",
   "metadata": {
    "tags": []
   },
   "outputs": [],
   "source": [
    "# Loading fields"
   ]
  },
  {
   "cell_type": "code",
   "execution_count": 30,
   "id": "f89b6242-084f-4732-aef1-be57528cd010",
   "metadata": {
    "tags": []
   },
   "outputs": [],
   "source": [
    "delta_21_advected = np.load(thesan_dir+f\"density_HI_{snap_dict[snap_int][1]:03d}.npy\")\n",
    "delta_21_advected = delta_21_advected / np.mean(delta_21_advected, dtype=np.float64) - 1.\n",
    "\n",
    "ones_dm_advected = np.load(scratch_dir+f'ones_dm_advected_{snap_int:d}.npy')\n",
    "delta_dm_advected = np.load(scratch_dir+f'delta_dm_advected_{snap_int:d}.npy')\n",
    "delta_dm_squared_advected = np.load(scratch_dir+f'delta_dm_squared_advected_{snap_int:d}.npy')\n",
    "s2_dm_advected = np.load(scratch_dir+f's2_dm_advected_{snap_int:d}.npy')\n",
    "nabla2_dm_advected = np.load(scratch_dir+f'nabla2_dm_advected_{snap_int:d}.npy')\n",
    "\n",
    "ones_dm_advected = ones_dm_advected/np.mean(ones_dm_advected, dtype=np.float64) - 1.\n",
    "delta_dm_advected = delta_dm_advected/(npart/nmesh)**3\n",
    "delta_dm_squared_advected = delta_dm_squared_advected/(npart/nmesh)**3\n",
    "s2_dm_advected = s2_dm_advected/(npart/nmesh)**3\n",
    "nabla2_dm_advected = nabla2_dm_advected/(npart/nmesh)**3"
   ]
  },
  {
   "cell_type": "code",
   "execution_count": 31,
   "id": "29e2eed7-ca3e-4d78-b5a8-ab8f86bbca99",
   "metadata": {
    "tags": []
   },
   "outputs": [
    {
     "data": {
      "text/plain": [
       "27280"
      ]
     },
     "execution_count": 31,
     "metadata": {},
     "output_type": "execute_result"
    }
   ],
   "source": [
    "delta_21_obs_fft = rfftn(delta_21_advected, workers=-1) / np.complex64(delta_21_advected.size)\n",
    "\n",
    "ones_dm_advected_fft = rfftn(ones_dm_advected, workers=-1) / np.complex64(ones_dm_advected.size)\n",
    "delta_dm_advected_fft = rfftn(delta_dm_advected, workers=-1) / np.complex64(delta_dm_advected.size)\n",
    "delta_dm_squared_advected_fft = rfftn(delta_dm_squared_advected, workers=-1) / np.complex64(delta_dm_squared_advected.size)\n",
    "s2_dm_advected_fft = rfftn(s2_dm_advected, workers=-1) / np.complex64(s2_dm_advected.size)\n",
    "nabla2_dm_advected_fft = rfftn(nabla2_dm_advected, workers=-1) / np.complex64(nabla2_dm_advected.size)\n",
    "\n",
    "del delta_21_advected, ones_dm_advected, delta_dm_advected, delta_dm_squared_advected, s2_dm_advected, nabla2_dm_advected\n",
    "gc.collect()"
   ]
  },
  {
   "cell_type": "code",
   "execution_count": 32,
   "id": "40cf851f-2b06-48bc-aa17-8a3e71858bae",
   "metadata": {
    "tags": []
   },
   "outputs": [],
   "source": [
    "result = calc_pk_from_deltak(delta_21_obs_fft, Lbox, k_bin_edges, mu_bin_edges)\n",
    "\n",
    "pk = result['power']\n",
    "Nmode = result['N_mode']\n",
    "binned_poles = result['binned_poles']\n",
    "N_mode_poles = result['N_mode_poles']\n",
    "k_avg = result['k_avg']\n",
    "\n",
    "#np.savez(f\"data/power_21_obs_fft_snap{snap_int:d}.npz\", pk=pk, k_bin_edges=k_bin_edges, Nmode=Nmode, k_avg=k_avg)\n",
    "pk_21 = pk"
   ]
  },
  {
   "cell_type": "code",
   "execution_count": 33,
   "id": "53821858-5136-4b6a-ab8e-ede7d1cba6d2",
   "metadata": {
    "tags": []
   },
   "outputs": [],
   "source": [
    "power_dict = {}\n",
    "fields = [\"ones_dm_advected\", \"delta_dm_advected\", \"delta_dm_squared_advected\", \"s2_dm_advected\", \"nabla2_dm_advected\"]\n",
    "for i, field_i in enumerate(fields):\n",
    "    result = calc_pk_from_deltak(delta_21_obs_fft, Lbox, k_bin_edges, mu_bin_edges, field2_fft=locals()[f\"{field_i}_fft\"])\n",
    "\n",
    "    pk = result['power']\n",
    "    Nmode = result['N_mode']\n",
    "    binned_poles = result['binned_poles']\n",
    "    N_mode_poles = result['N_mode_poles']\n",
    "    k_avg = result['k_avg']    \n",
    "    power_dict[f\"delta_21_obs_{field_i}\"] = pk\n",
    "    \n",
    "    for j, field_j in enumerate(fields):\n",
    "        if i < j: continue\n",
    "        result = calc_pk_from_deltak(locals()[f\"{field_i}_fft\"], Lbox, k_bin_edges, mu_bin_edges, field2_fft=locals()[f\"{field_j}_fft\"])\n",
    "\n",
    "        pk = result['power']\n",
    "        Nmode = result['N_mode']\n",
    "        binned_poles = result['binned_poles']\n",
    "        N_mode_poles = result['N_mode_poles']\n",
    "        k_avg = result['k_avg']\n",
    "        power_dict[f\"{field_i}_{field_j}\"] = power_dict[f\"{field_j}_{field_i}\"] = pk\n",
    "        \n",
    "#np.savez(f\"data/power_dict_snap{snap_int:d}.npz\", power_dict=power_dict, k_bin_edges=k_bin_edges, mu_bin_edges=mu_bin_edges, Nmode=Nmode, k_avg=k_avg)"
   ]
  },
  {
   "cell_type": "code",
   "execution_count": 34,
   "id": "fbc770b9-8b91-4257-9bc2-442bbd707605",
   "metadata": {
    "tags": []
   },
   "outputs": [],
   "source": [
    "def get_power_model(one_bias, kmin=0., kmax=np.inf):\n",
    "    power_model = np.zeros(len(k_avg[(k_avg < kmax) & (k_avg > kmin)]))\n",
    "    for i, field_i in enumerate(fields):\n",
    "        for j, field_j in enumerate(fields):\n",
    "            power_model += one_bias[i] * one_bias[j] * power_dict[f\"{field_i}_{field_j}\"][(k_avg < kmax) & (k_avg > kmin)]\n",
    "    return power_model\n",
    "\n",
    "def get_cross_power_model(one_bias, kmin=0., kmax=np.inf):\n",
    "    power_model = np.zeros(len(k_avg[(k_avg < kmax) & (k_avg > kmin)]))\n",
    "    for i, field_i in enumerate(fields):\n",
    "        power_model += one_bias[i] * power_dict[f\"delta_21_obs_{field_i}\"][(k_avg < kmax) & (k_avg > kmin)]\n",
    "    return power_model"
   ]
  },
  {
   "cell_type": "code",
   "execution_count": 35,
   "id": "5ad63e43-b94d-4f96-9547-743b6da04f34",
   "metadata": {
    "tags": []
   },
   "outputs": [],
   "source": [
    "# Field-level fit"
   ]
  },
  {
   "cell_type": "code",
   "execution_count": 36,
   "id": "cdb2727d-0c27-4d44-99b7-b956659c6293",
   "metadata": {
    "tags": []
   },
   "outputs": [
    {
     "data": {
      "text/plain": [
       "69"
      ]
     },
     "execution_count": 36,
     "metadata": {},
     "output_type": "execute_result"
    }
   ],
   "source": [
    "kx, ky, kz = fftfreq(nmesh, d=Lbox/nmesh)*2.*np.pi, fftfreq(nmesh, d=Lbox/nmesh)*2.*np.pi, rfftfreq(nmesh, d=Lbox/nmesh)*2.*np.pi\n",
    "kx, ky, kz = np.meshgrid(kx, ky, kz, indexing='ij')\n",
    "k2 = kx**2 + ky**2 + kz**2\n",
    "del kx, ky, kz; gc.collect()"
   ]
  },
  {
   "cell_type": "code",
   "execution_count": 37,
   "id": "3893c8bd-f04c-46c6-958c-50251e6bd101",
   "metadata": {
    "tags": []
   },
   "outputs": [],
   "source": [
    "def mini_fun(bias):\n",
    "    b1, b2, bs, bn = np.real(bias)\n",
    "    delta_model_fft_cut = ones_dm_advected_fft_cut + b1*delta_dm_advected_fft_cut + b2*delta_dm_squared_advected_fft_cut + bs*s2_dm_advected_fft_cut + bn*nabla2_dm_advected_fft_cut\n",
    "    diff = delta_21_obs_fft_cut - delta_model_fft_cut \n",
    "    sum_diff2 = np.sum(diff*np.conj(diff))\n",
    "    return sum_diff2"
   ]
  },
  {
   "cell_type": "code",
   "execution_count": 47,
   "id": "0eaa0d19-1cf3-42f8-b859-97760a7296bc",
   "metadata": {
    "tags": []
   },
   "outputs": [
    {
     "name": "stdout",
     "output_type": "stream",
     "text": [
      "22\n"
     ]
    }
   ],
   "source": [
    "kmax = 0.2 #0.5 #1. #0.5\n",
    "kmin = 0.0 # ask Martin about HERA error and k-range, field-level fits\n",
    "\n",
    "delta_21_obs_fft_cut = delta_21_obs_fft[(k2 < kmax**2) & (k2 > kmin**2)]\n",
    "ones_dm_advected_fft_cut = ones_dm_advected_fft[(k2 < kmax**2) & (k2 > kmin**2)]\n",
    "delta_dm_advected_fft_cut = delta_dm_advected_fft[(k2 < kmax**2) & (k2 > kmin**2)]\n",
    "delta_dm_squared_advected_fft_cut = delta_dm_squared_advected_fft[(k2 < kmax**2) & (k2 > kmin**2)]\n",
    "nabla2_dm_advected_fft_cut = nabla2_dm_advected_fft[(k2 < kmax**2) & (k2 > kmin**2)]\n",
    "s2_dm_advected_fft_cut = s2_dm_advected_fft[(k2 < kmax**2) & (k2 > kmin**2)]\n",
    "#k2_cut = k2[(k2 < kmax**2) & (k2 > kmin**2)]\n",
    "print(np.sum((k2 < kmax**2) & (k2 > kmin**2)))"
   ]
  },
  {
   "cell_type": "code",
   "execution_count": 48,
   "id": "9350ed0e-2f16-49cc-90ba-92db0e1db1c8",
   "metadata": {
    "tags": []
   },
   "outputs": [
    {
     "name": "stdout",
     "output_type": "stream",
     "text": [
      "-0.5556419803671516 -1.0932421554953906 3.5216460774950398 0.001014810371446226\n"
     ]
    },
    {
     "name": "stderr",
     "output_type": "stream",
     "text": [
      "/global/homes/b/boryanah/anaconda3/envs/desc/lib/python3.7/site-packages/scipy/optimize/optimize.py:3075: ComplexWarning: Casting complex values to real discards the imaginary part\n",
      "  direc[-1] = direc1\n"
     ]
    }
   ],
   "source": [
    "x0 = [1., 1., 1., 1.] # initial guess for the bias parameters\n",
    "res = minimize(mini_fun, x0, method='Powell')\n",
    "b1, b2, bs, bn = np.real(res['x'])\n",
    "print(b1, b2, bs, bn)\n",
    "one_bias = np.array([1., b1, b2, bs, bn])\n",
    "\n",
    "# construct model (only need if looking at other statistics)\n",
    "#delta_model_fft = ones_dm_advected_fft + b1*delta_dm_advected_fft + b2*delta_dm_squared_advected_fft + bs*s2_dm_advected_fft + bn*nabla2_dm_advected_fft"
   ]
  },
  {
   "cell_type": "code",
   "execution_count": 49,
   "id": "336089b6-c67d-4002-9720-ba7e03035fd9",
   "metadata": {
    "tags": []
   },
   "outputs": [],
   "source": [
    "# kmax = 0.2: -0.9698155163972996 -1.6037365298215223 3.949551332878755 0.004222847968534695\n",
    "# kmax = 0.5: -0.13277050388573838 -0.6881333336236318 0.5274073229366312 0.0018998010945043468"
   ]
  },
  {
   "cell_type": "code",
   "execution_count": 50,
   "id": "7eca3e41-3f18-4995-a192-00bd529c14da",
   "metadata": {
    "tags": []
   },
   "outputs": [],
   "source": [
    "pk_mod = get_power_model(one_bias, kmin=0., kmax=np.inf)\n",
    "pk_21_mod = get_cross_power_model(one_bias, kmin=0., kmax=np.inf)\n",
    "r_pk = pk_21_mod/(np.sqrt(pk_21*pk_mod))"
   ]
  },
  {
   "cell_type": "code",
   "execution_count": 51,
   "id": "50dbf758-3c8a-4c95-8a5f-3ca0119f32ea",
   "metadata": {
    "tags": []
   },
   "outputs": [],
   "source": [
    "# Alternatuve fit from \"Priors on red galaxy stochasticity from hybrid effective field theory\""
   ]
  },
  {
   "cell_type": "code",
   "execution_count": 40,
   "id": "13d26daf-65d5-4192-af24-6815ae2e7824",
   "metadata": {
    "tags": []
   },
   "outputs": [],
   "source": [
    "operators = [\"delta_dm_advected\", \"delta_dm_squared_advected\", \"s2_dm_advected\", \"nabla2_dm_advected\"]\n",
    "A_dict = {}\n",
    "M_dict = {}\n",
    "for i, operator_i in enumerate(operators):\n",
    "    A_dict[operator_i] = np.sum(locals()[f\"{operator_i}_fft_cut\"]*np.conj(delta_21_obs_fft_cut - ones_dm_advected_fft_cut))\n",
    "    for j, operator_j in enumerate(operators):\n",
    "        if i < j: continue\n",
    "        M_dict[f\"{operator_i}_{operator_j}\"] = np.sum(locals()[f\"{operator_i}_fft_cut\"]*np.conj(locals()[f\"{operator_j}_fft_cut\"]))\n",
    "        M_dict[f\"{operator_j}_{operator_i}\"] = np.conj(M_dict[f\"{operator_i}_{operator_j}\"])"
   ]
  },
  {
   "cell_type": "code",
   "execution_count": 41,
   "id": "289a6980-b619-4abc-885e-35cc84563bac",
   "metadata": {
    "tags": []
   },
   "outputs": [
    {
     "name": "stdout",
     "output_type": "stream",
     "text": [
      "[ 1.00000000e+00  1.90382401e-01 -4.44120710e-01  5.03665771e-01\n",
      "  9.58046689e-05]\n"
     ]
    },
    {
     "name": "stderr",
     "output_type": "stream",
     "text": [
      "/global/homes/b/boryanah/anaconda3/envs/desc/lib/python3.7/site-packages/ipykernel_launcher.py:4: ComplexWarning: Casting complex values to real discards the imaginary part\n",
      "  after removing the cwd from sys.path.\n",
      "/global/homes/b/boryanah/anaconda3/envs/desc/lib/python3.7/site-packages/ipykernel_launcher.py:6: ComplexWarning: Casting complex values to real discards the imaginary part\n",
      "  \n"
     ]
    }
   ],
   "source": [
    "A_vect = np.zeros(len(operators))\n",
    "M_matr = np.zeros((len(operators), len(operators)))\n",
    "for i in range(len(operators)):\n",
    "    A_vect[i] = A_dict[operators[i]]\n",
    "    for j in range(len(operators)):\n",
    "        M_matr[i, j] = M_dict[f\"{operators[i]}_{operators[j]}\"]\n",
    "one_bias_alt = np.hstack((1., np.dot(np.linalg.inv(M_matr), A_vect)))\n",
    "print(one_bias_alt)"
   ]
  },
  {
   "cell_type": "code",
   "execution_count": 25,
   "id": "32eacd56-6eeb-454b-9661-3eeb5c329565",
   "metadata": {
    "tags": []
   },
   "outputs": [],
   "source": [
    "pk_mod_alt = get_power_model(one_bias_alt, kmin=0., kmax=np.inf)\n",
    "pk_21_mod_alt = get_cross_power_model(one_bias_alt, kmin=0., kmax=np.inf)\n",
    "r_pk_alt = pk_21_mod_alt/(np.sqrt(pk_21*pk_mod_alt))"
   ]
  },
  {
   "cell_type": "code",
   "execution_count": 57,
   "id": "93a452e4-98ae-46be-b6bb-2cecaf303a2e",
   "metadata": {
    "tags": []
   },
   "outputs": [],
   "source": [
    "# TESTING\n",
    "pk_mod = pk_mod_alt\n",
    "r_pk = r_pk_alt"
   ]
  },
  {
   "cell_type": "code",
   "execution_count": 16,
   "id": "f0b49432-89cd-4cdf-aab6-83a91024dcd2",
   "metadata": {
    "tags": []
   },
   "outputs": [],
   "source": [
    "# Power-spectrum fit"
   ]
  },
  {
   "cell_type": "code",
   "execution_count": 52,
   "id": "157553fb-9420-4a40-9728-360214ac4d53",
   "metadata": {
    "tags": []
   },
   "outputs": [],
   "source": [
    "def mini_fun_pk(bias, kmin=0., kmax=np.inf):\n",
    "    one_bias = np.hstack(([1.], bias))\n",
    "    pk_mod_cut = get_power_model(one_bias, kmin, kmax)\n",
    "    pk_21_cut = pk_21[(k_avg < kmax) & (k_avg > kmin)]\n",
    "    sum_diff2 = np.sum((pk_21_cut-pk_mod_cut)**2)\n",
    "    return sum_diff2\n"
   ]
  },
  {
   "cell_type": "code",
   "execution_count": 56,
   "id": "55f908e8-9ff0-4e4a-af31-e2c2fbce9d88",
   "metadata": {
    "tags": []
   },
   "outputs": [
    {
     "name": "stdout",
     "output_type": "stream",
     "text": [
      "-0.3256967412872884 -0.25895555880706905 -0.6259392229674187 0.011680447128028302\n"
     ]
    }
   ],
   "source": [
    "x0 = [1., 1., 1., 1.] # initial guess for the bias parameters\n",
    "kmax = 1. #10.\n",
    "kmin = 0.\n",
    "res = minimize(mini_fun_pk, x0, args=(kmin, kmax), method='Powell')\n",
    "b1_fit, b2_fit, bs_fit, bn_fit = res['x']\n",
    "print(b1_fit, b2_fit, bs_fit, bn_fit)\n",
    "one_bias_fit = np.array([1., b1_fit, b2_fit, bs_fit, bn_fit])"
   ]
  },
  {
   "cell_type": "code",
   "execution_count": 54,
   "id": "737c8b33-5a60-4a57-af70-8df2395a781b",
   "metadata": {
    "tags": []
   },
   "outputs": [],
   "source": [
    "# TESTING\n",
    "one_bias_fit = np.array([1., b1, b2, bs, bn])"
   ]
  },
  {
   "cell_type": "code",
   "execution_count": 55,
   "id": "a3124c06-ed12-47d3-9b82-5031c3aa4915",
   "metadata": {
    "tags": []
   },
   "outputs": [],
   "source": [
    "pk_mod_fit = get_power_model(one_bias_fit, kmin=0., kmax=np.inf)\n",
    "pk_21_mod_fit = get_cross_power_model(one_bias_fit, kmin=0., kmax=np.inf)\n",
    "r_pk_fit = pk_21_mod_fit/(np.sqrt(pk_21*pk_mod_fit))"
   ]
  },
  {
   "cell_type": "code",
   "execution_count": 20,
   "id": "8acea7db-481d-4ea9-abce-ad726291c6f6",
   "metadata": {
    "tags": []
   },
   "outputs": [],
   "source": [
    "# Testing at power-spectrum level"
   ]
  },
  {
   "cell_type": "code",
   "execution_count": 57,
   "id": "22cdccff-fdbd-4cb0-8b9d-9e7244425a4b",
   "metadata": {
    "tags": []
   },
   "outputs": [
    {
     "data": {
      "text/plain": [
       "Text(0, 0.5, 'b(k)')"
      ]
     },
     "execution_count": 57,
     "metadata": {},
     "output_type": "execute_result"
    },
    {
     "data": {
      "image/png": "[encoded data removed]",
      "text/plain": [
       "<Figure size 432x288 with 1 Axes>"
      ]
     },
     "metadata": {
      "needs_background": "light"
     },
     "output_type": "display_data"
    },
    {
     "data": {
      "image/png": "[encoded data removed]",
      "text/plain": [
       "<Figure size 432x288 with 1 Axes>"
      ]
     },
     "metadata": {
      "needs_background": "light"
     },
     "output_type": "display_data"
    },
    {
     "data": {
      "image/png": "[encoded data removed]",
      "text/plain": [
       "<Figure size 432x288 with 1 Axes>"
      ]
     },
     "metadata": {
      "needs_background": "light"
     },
     "output_type": "display_data"
    },
    {
     "data": {
      "image/png": "[encoded data removed]",
      "text/plain": [
       "<Figure size 432x288 with 1 Axes>"
      ]
     },
     "metadata": {
      "needs_background": "light"
     },
     "output_type": "display_data"
    }
   ],
   "source": [
    "plt.figure(1)\n",
    "plt.title(f\"z = {snap_dict[snap_int][0]:.1f}\")\n",
    "plt.plot(k_avg, r_pk, label=\"field-level\")\n",
    "plt.plot(k_avg, np.abs(r_pk_fit), label=\"power-spectrum\")\n",
    "plt.legend()\n",
    "plt.xscale('log')\n",
    "plt.xlabel('k')\n",
    "plt.ylabel('r(k)')\n",
    "plt.ylim([0, 1.0]) \n",
    "\n",
    "plt.figure(2)\n",
    "plt.errorbar(k_avg, pk_21, yerr=np.sqrt(2./Nmode)*pk_21, capsize=4, label=\"21 cm\")\n",
    "plt.plot(k_avg, pk_mod, label=\"field-level\")\n",
    "plt.plot(k_avg, pk_mod_fit, label=\"power-spectrum\")\n",
    "plt.legend()\n",
    "plt.xscale('log')\n",
    "plt.yscale('log')\n",
    "plt.xlabel('k')\n",
    "plt.ylabel('P(k)')\n",
    "\n",
    "plt.figure(3)\n",
    "plt.plot(k_avg, np.abs((pk_mod-pk_21)/pk_21), label=\"field-level\")\n",
    "plt.plot(k_avg, np.abs((pk_mod_fit-pk_21)/pk_21), label=\"power-spectrum\")\n",
    "plt.legend()\n",
    "plt.xscale('log')\n",
    "plt.xlabel('k')\n",
    "plt.ylim([0, 0.5]) \n",
    "plt.ylabel('frac. err. P(k)')\n",
    "\n",
    "plt.figure(4)\n",
    "plt.plot(k_avg, np.sqrt(pk_21/power_dict['ones_dm_advected_ones_dm_advected']))\n",
    "plt.xscale('log')\n",
    "plt.xlabel('k')\n",
    "plt.ylabel('b(k)')"
   ]
  },
  {
   "cell_type": "code",
   "execution_count": 155,
   "id": "da44363a-721e-4794-9529-4106f4dc4acb",
   "metadata": {
    "tags": []
   },
   "outputs": [],
   "source": [
    "# TESTING"
   ]
  },
  {
   "cell_type": "code",
   "execution_count": 160,
   "id": "c3d7a2eb-7713-4ad2-83f8-384605f7c263",
   "metadata": {
    "tags": []
   },
   "outputs": [],
   "source": [
    "# Class P_lin(k)"
   ]
  },
  {
   "cell_type": "code",
   "execution_count": 156,
   "id": "1291aa64-54b2-4491-9d78-c1021de2103c",
   "metadata": {
    "tags": []
   },
   "outputs": [],
   "source": [
    "from classy import Class\n",
    "import numpy as np\n",
    "\n",
    "#Start by specifying the cosmology\n",
    "Omega_b = 0.05\n",
    "Omega_m = 0.3\n",
    "Omega_cdm = Omega_m - Omega_b\n",
    "h = 0.7 #H0/100\n",
    "A_s = 2.1e-9\n",
    "n_s = 0.96\n",
    "\n",
    "#Create a params dictionary\n",
    "#Need to specify the max wavenumber\n",
    "k_max = 20 #UNITS: 1/Mpc\n",
    "\n",
    "params = {\n",
    "             'output':'mPk',\n",
    "             'non linear':'halofit',\n",
    "             'Omega_b':Omega_b,\n",
    "             'Omega_cdm':Omega_cdm,\n",
    "             'h':h,\n",
    "             'A_s':A_s,\n",
    "             'n_s':n_s,\n",
    "             'P_k_max_1/Mpc':k_max,\n",
    "             'z_max_pk':10. #Default value is 10\n",
    "}\n",
    "\n",
    "#Initialize the cosmology andcompute everything\n",
    "cosmo = Class()\n",
    "cosmo.set(params)\n",
    "cosmo.compute()\n",
    "\n",
    "#Specify k and z\n",
    "k = np.logspace(-5, np.log10(k_max), num=1000) #Mpc^-1\n",
    "z = snap_dict[snap_int][0]\n",
    "\n",
    "#Call these for the nonlinear and linear matter power spectra\n",
    "Pnonlin = np.array([cosmo.pk(ki, z) for ki in k])\n",
    "Plin = np.array([cosmo.pk_lin(ki, z) for ki in k])\n",
    "\n",
    "#NOTE: You will need to convert these to h/Mpc and (Mpc/h)^3\n",
    "#to use in the toolkit. To do this you would do:\n",
    "k /= h\n",
    "Plin *= h**3\n",
    "Pnonlin *= h**3"
   ]
  },
  {
   "cell_type": "code",
   "execution_count": 49,
   "id": "1d04beb4-f879-4c97-922b-e63f4c87a37f",
   "metadata": {
    "tags": []
   },
   "outputs": [
    {
     "ename": "NameError",
     "evalue": "name 'pk_delta_21' is not defined",
     "output_type": "error",
     "traceback": [
      "\u001b[0;31m---------------------------------------------------------------------------\u001b[0m",
      "\u001b[0;31mNameError\u001b[0m                                 Traceback (most recent call last)",
      "\u001b[0;32m<ipython-input-49-dad77aedae5d>\u001b[0m in \u001b[0;36m<module>\u001b[0;34m\u001b[0m\n\u001b[1;32m      6\u001b[0m \u001b[0;34m\u001b[0m\u001b[0m\n\u001b[1;32m      7\u001b[0m \u001b[0mplt\u001b[0m\u001b[0;34m.\u001b[0m\u001b[0mfigure\u001b[0m\u001b[0;34m(\u001b[0m\u001b[0;36m1\u001b[0m\u001b[0;34m)\u001b[0m\u001b[0;34m\u001b[0m\u001b[0;34m\u001b[0m\u001b[0m\n\u001b[0;32m----> 8\u001b[0;31m \u001b[0mplt\u001b[0m\u001b[0;34m.\u001b[0m\u001b[0mplot\u001b[0m\u001b[0;34m(\u001b[0m\u001b[0mk_avg\u001b[0m\u001b[0;34m,\u001b[0m \u001b[0mnp\u001b[0m\u001b[0;34m.\u001b[0m\u001b[0msqrt\u001b[0m\u001b[0;34m(\u001b[0m\u001b[0mpk_delta_21\u001b[0m\u001b[0;34m/\u001b[0m\u001b[0mnp\u001b[0m\u001b[0;34m.\u001b[0m\u001b[0minterp\u001b[0m\u001b[0;34m(\u001b[0m\u001b[0mk_avg\u001b[0m\u001b[0;34m,\u001b[0m \u001b[0mk\u001b[0m\u001b[0;34m,\u001b[0m \u001b[0mPlin\u001b[0m\u001b[0;34m)\u001b[0m\u001b[0;34m)\u001b[0m\u001b[0;34m)\u001b[0m\u001b[0;34m\u001b[0m\u001b[0;34m\u001b[0m\u001b[0m\n\u001b[0m\u001b[1;32m      9\u001b[0m \u001b[0mplt\u001b[0m\u001b[0;34m.\u001b[0m\u001b[0mxscale\u001b[0m\u001b[0;34m(\u001b[0m\u001b[0;34m'log'\u001b[0m\u001b[0;34m)\u001b[0m\u001b[0;34m\u001b[0m\u001b[0;34m\u001b[0m\u001b[0m\n\u001b[1;32m     10\u001b[0m \u001b[0;34m\u001b[0m\u001b[0m\n",
      "\u001b[0;31mNameError\u001b[0m: name 'pk_delta_21' is not defined"
     ]
    },
    {
     "data": {
      "text/plain": [
       "<Figure size 432x288 with 0 Axes>"
      ]
     },
     "metadata": {},
     "output_type": "display_data"
    }
   ],
   "source": [
    "pk_ones_dm = power_dict['ones_dm_advected_ones_dm_advected']\n",
    "pk_delta_dm = power_dict['delta_dm_advected_delta_dm_advected']\n",
    "pk_delta_dm_squared = power_dict['delta_dm_squared_advected_delta_dm_squared_advected']\n",
    "pk_s2_dm = power_dict['s2_dm_advected_s2_dm_advected']\n",
    "pk_nabla2_dm = power_dict['nabla2_dm_advected_nabla2_dm_advected']\n",
    "\n",
    "plt.figure(1)\n",
    "plt.plot(k_avg, np.sqrt(pk_delta_21/np.interp(k_avg, k, Plin)))\n",
    "plt.xscale('log')\n",
    "\n",
    "plt.figure(2)\n",
    "plt.plot(k_avg, pk_21, color='k', label=\"21cm\") # *k_avg**3/2*np.pi**2\n",
    "plt.plot(k_avg, np.interp(k_avg, k, Plin), color='k', ls='--', label=\"linear\")\n",
    "#plt.plot(k_avg, np.interp(k_avg, k, Pnonlin), color='k', ls=':', label=\"non-linear\")\n",
    "plt.plot(k_avg, pk_ones_dm, label=\"ones\")\n",
    "plt.plot(k_avg, pk_delta_dm, label=\"delta\")\n",
    "plt.plot(k_avg, pk_delta_dm_squared, label=\"delta2\")\n",
    "plt.plot(k_avg, pk_s2_dm, label=\"s2\")\n",
    "plt.plot(k_avg, pk_nabla2_dm, label=\"nabla2\")\n",
    "plt.legend()\n",
    "plt.xscale('log')\n",
    "plt.yscale('log')"
   ]
  },
  {
   "cell_type": "code",
   "execution_count": 158,
   "id": "247c572e-0053-49a2-b663-f28c627ba8f1",
   "metadata": {
    "tags": []
   },
   "outputs": [],
   "source": [
    "# Growth factor"
   ]
  },
  {
   "cell_type": "code",
   "execution_count": 3,
   "id": "6e47c5eb-a73d-426c-a589-6dea26925321",
   "metadata": {},
   "outputs": [
    {
     "name": "stdout",
     "output_type": "stream",
     "text": [
      "78.42699210333619\n"
     ]
    }
   ],
   "source": [
    "def delta_growth_factor(z,omega_m0):\n",
    "    a = 1/(z+1) #Scale factor\n",
    "    w = -1 #EoS for the Dark Energy. We assume w=-1 for standard DE.\n",
    "    omega_m = (omega_m0*a**(-3))/(omega_m0*a**(-3)+(1-omega_m0))\n",
    "\n",
    "    delta =  a*sp.special.hyp2f1( (w-1)/(2*w) , -1/(3*w) ,\n",
    "                               1- 5/(6*w),1 - 1/omega_m )\n",
    "\n",
    "    return delta\n",
    "\n",
    "def growth_factor(z,omega_m0=0.27):\n",
    "    num = delta_growth_factor(z, omega_m0=omega_m0)\n",
    "    den = delta_growth_factor(0, omega_m0=omega_m0)\n",
    "    dz = num/den\n",
    "    return dz\n",
    "\n",
    "#print(growth_factor(snap_dict[snap_int][0], omega_m0=0.3089)/growth_factor(z_IC, omega_m0=0.3089))\n",
    "print(growth_factor(0., omega_m0=0.3089)/growth_factor(99., omega_m0=0.3089))"
   ]
  },
  {
   "cell_type": "code",
   "execution_count": 65,
   "id": "763b91cd-799c-479c-bb4b-b1857700c3be",
   "metadata": {
    "tags": []
   },
   "outputs": [],
   "source": [
    "# Autocorreletion of model\n",
    "result = calc_pk_from_deltak(delta_model_fft, Lbox, k_bin_edges, mu_bin_edges)\n",
    "\n",
    "pk = result['power']\n",
    "Nmode = result['N_mode']\n",
    "binned_poles = result['binned_poles']\n",
    "N_mode_poles = result['N_mode_poles']\n",
    "k_avg = result['k_avg']\n",
    "\n",
    "#np.savez(f\"data/power_delta_model_fft_snap{snap_int:d}.npz\", pk=pk, k_bin_edges=k_bin_edges, Nmode=Nmode, k_avg=k_avg)\n",
    "pk_mod = pk"
   ]
  }
 ],
 "metadata": {
  "kernelspec": {
   "display_name": "desc",
   "language": "python",
   "name": "desc"
  },
  "language_info": {
   "codemirror_mode": {
    "name": "ipython",
    "version": 3
   },
   "file_extension": ".py",
   "mimetype": "text/x-python",
   "name": "python",
   "nbconvert_exporter": "python",
   "pygments_lexer": "ipython3",
   "version": "3.7.6"
  }
 },
 "nbformat": 4,
 "nbformat_minor": 5
}
